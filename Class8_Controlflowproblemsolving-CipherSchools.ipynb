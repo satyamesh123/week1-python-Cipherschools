{
  "nbformat": 4,
  "nbformat_minor": 0,
  "metadata": {
    "colab": {
      "provenance": []
    },
    "kernelspec": {
      "name": "python3",
      "display_name": "Python 3"
    },
    "language_info": {
      "name": "python"
    }
  },
  "cells": [
    {
      "cell_type": "code",
      "source": [
        "n = 5\n",
        "for i in range(n):\n",
        "    for j in range(n):\n",
        "        print(i, end = \" \")\n",
        "    print()"
      ],
      "metadata": {
        "colab": {
          "base_uri": "https://localhost:8080/"
        },
        "id": "jX849GOqLjOX",
        "outputId": "b82eca1d-2397-4c3b-9ff0-0bdba73074ec"
      },
      "execution_count": null,
      "outputs": [
        {
          "output_type": "stream",
          "name": "stdout",
          "text": [
            "0 0 0 0 0 \n",
            "1 1 1 1 1 \n",
            "2 2 2 2 2 \n",
            "3 3 3 3 3 \n",
            "4 4 4 4 4 \n"
          ]
        }
      ]
    },
    {
      "cell_type": "code",
      "source": [
        "n = 5\n",
        "for i in range(n):\n",
        "  for j in range(n):\n",
        "    print(i, end = \" \")\n",
        "    print()"
      ],
      "metadata": {
        "colab": {
          "base_uri": "https://localhost:8080/"
        },
        "id": "qNiXELY1PnDQ",
        "outputId": "d2b84971-bf8a-4c7a-8609-adbe22e635c8"
      },
      "execution_count": null,
      "outputs": [
        {
          "output_type": "stream",
          "name": "stdout",
          "text": [
            "0 \n",
            "0 \n",
            "0 \n",
            "0 \n",
            "0 \n",
            "1 \n",
            "1 \n",
            "1 \n",
            "1 \n",
            "1 \n",
            "2 \n",
            "2 \n",
            "2 \n",
            "2 \n",
            "2 \n",
            "3 \n",
            "3 \n",
            "3 \n",
            "3 \n",
            "3 \n",
            "4 \n",
            "4 \n",
            "4 \n",
            "4 \n",
            "4 \n"
          ]
        }
      ]
    },
    {
      "cell_type": "code",
      "source": [
        "n = 5\n",
        "for i in range(n):\n",
        "    for j in range(n):\n",
        "        print(n-j, end = \" \")\n",
        "    print()"
      ],
      "metadata": {
        "colab": {
          "base_uri": "https://localhost:8080/"
        },
        "id": "LdOKQBUYPnoH",
        "outputId": "8c77ca4b-7567-4cc6-fe48-691f3fbc5db7"
      },
      "execution_count": null,
      "outputs": [
        {
          "output_type": "stream",
          "name": "stdout",
          "text": [
            "5 4 3 2 1 \n",
            "5 4 3 2 1 \n",
            "5 4 3 2 1 \n",
            "5 4 3 2 1 \n",
            "5 4 3 2 1 \n"
          ]
        }
      ]
    },
    {
      "cell_type": "code",
      "source": [
        "n = 5\n",
        "for i in range(n):\n",
        "    for j in range(n):\n",
        "        print(n-j-1, end = \" \")\n",
        "    print()"
      ],
      "metadata": {
        "colab": {
          "base_uri": "https://localhost:8080/"
        },
        "id": "Be3HbzWtPq-z",
        "outputId": "534b1e5e-8e4f-4ccd-eb51-ca6b48a9206e"
      },
      "execution_count": null,
      "outputs": [
        {
          "output_type": "stream",
          "name": "stdout",
          "text": [
            "4 3 2 1 0 \n",
            "4 3 2 1 0 \n",
            "4 3 2 1 0 \n",
            "4 3 2 1 0 \n",
            "4 3 2 1 0 \n"
          ]
        }
      ]
    },
    {
      "cell_type": "code",
      "source": [
        "n = 5\n",
        "for i in range(n):\n",
        "    for j in range(n):\n",
        "        print(j+1, end = \" \")\n",
        "    print()"
      ],
      "metadata": {
        "colab": {
          "base_uri": "https://localhost:8080/"
        },
        "id": "Uruk2xWQP09W",
        "outputId": "05ada4e7-cf22-451e-c503-1bbd0b6f428a"
      },
      "execution_count": null,
      "outputs": [
        {
          "output_type": "stream",
          "name": "stdout",
          "text": [
            "1 2 3 4 5 \n",
            "1 2 3 4 5 \n",
            "1 2 3 4 5 \n",
            "1 2 3 4 5 \n",
            "1 2 3 4 5 \n"
          ]
        }
      ]
    },
    {
      "cell_type": "code",
      "source": [
        "max(1, 2, 3, 4, 5, 7)"
      ],
      "metadata": {
        "colab": {
          "base_uri": "https://localhost:8080/"
        },
        "id": "_K4pDcnxP5Uz",
        "outputId": "165da4f7-c156-42cb-d6c7-21a68c17d215"
      },
      "execution_count": null,
      "outputs": [
        {
          "output_type": "execute_result",
          "data": {
            "text/plain": [
              "7"
            ]
          },
          "metadata": {},
          "execution_count": 5
        }
      ]
    },
    {
      "cell_type": "code",
      "source": [
        "n = 18\n",
        "for i in range(n):\n",
        "    for j in range(n):\n",
        "        print(max(i+1, j+1, n-i, n-j), end = \" \")\n",
        "    print()\n"
      ],
      "metadata": {
        "colab": {
          "base_uri": "https://localhost:8080/"
        },
        "id": "QSSntZPOP8aG",
        "outputId": "a086968b-5b9b-4bc2-ed09-e73b00888224"
      },
      "execution_count": null,
      "outputs": [
        {
          "output_type": "stream",
          "name": "stdout",
          "text": [
            "18 18 18 18 18 18 18 18 18 18 18 18 18 18 18 18 18 18 \n",
            "18 17 17 17 17 17 17 17 17 17 17 17 17 17 17 17 17 18 \n",
            "18 17 16 16 16 16 16 16 16 16 16 16 16 16 16 16 17 18 \n",
            "18 17 16 15 15 15 15 15 15 15 15 15 15 15 15 16 17 18 \n",
            "18 17 16 15 14 14 14 14 14 14 14 14 14 14 15 16 17 18 \n",
            "18 17 16 15 14 13 13 13 13 13 13 13 13 14 15 16 17 18 \n",
            "18 17 16 15 14 13 12 12 12 12 12 12 13 14 15 16 17 18 \n",
            "18 17 16 15 14 13 12 11 11 11 11 12 13 14 15 16 17 18 \n",
            "18 17 16 15 14 13 12 11 10 10 11 12 13 14 15 16 17 18 \n",
            "18 17 16 15 14 13 12 11 10 10 11 12 13 14 15 16 17 18 \n",
            "18 17 16 15 14 13 12 11 11 11 11 12 13 14 15 16 17 18 \n",
            "18 17 16 15 14 13 12 12 12 12 12 12 13 14 15 16 17 18 \n",
            "18 17 16 15 14 13 13 13 13 13 13 13 13 14 15 16 17 18 \n",
            "18 17 16 15 14 14 14 14 14 14 14 14 14 14 15 16 17 18 \n",
            "18 17 16 15 15 15 15 15 15 15 15 15 15 15 15 16 17 18 \n",
            "18 17 16 16 16 16 16 16 16 16 16 16 16 16 16 16 17 18 \n",
            "18 17 17 17 17 17 17 17 17 17 17 17 17 17 17 17 17 18 \n",
            "18 18 18 18 18 18 18 18 18 18 18 18 18 18 18 18 18 18 \n"
          ]
        }
      ]
    },
    {
      "cell_type": "code",
      "source": [
        "n = 5\n",
        "for i in range(n):\n",
        "    for j in range(n):\n",
        "      i, j\n",
        "      print((i,j), end = \" \")\n",
        "    print()"
      ],
      "metadata": {
        "colab": {
          "base_uri": "https://localhost:8080/"
        },
        "id": "-hXPHpejP-sp",
        "outputId": "181fc839-45c3-4cf0-8ccd-e1f18b2d6242"
      },
      "execution_count": null,
      "outputs": [
        {
          "output_type": "stream",
          "name": "stdout",
          "text": [
            "(0, 0) (0, 1) (0, 2) (0, 3) (0, 4) \n",
            "(1, 0) (1, 1) (1, 2) (1, 3) (1, 4) \n",
            "(2, 0) (2, 1) (2, 2) (2, 3) (2, 4) \n",
            "(3, 0) (3, 1) (3, 2) (3, 3) (3, 4) \n",
            "(4, 0) (4, 1) (4, 2) (4, 3) (4, 4) \n"
          ]
        }
      ]
    },
    {
      "cell_type": "code",
      "source": [
        "\n",
        "for i in range(n):\n",
        "    for j in range(n):\n",
        "        print(i, end = \" \")\n",
        "    print()"
      ],
      "metadata": {
        "colab": {
          "base_uri": "https://localhost:8080/"
        },
        "id": "eh84GNDVQB9g",
        "outputId": "d4a3ae2a-d2af-42ab-8773-57d63809c882"
      },
      "execution_count": null,
      "outputs": [
        {
          "output_type": "stream",
          "name": "stdout",
          "text": [
            "0 0 0 0 0 \n",
            "1 1 1 1 1 \n",
            "2 2 2 2 2 \n",
            "3 3 3 3 3 \n",
            "4 4 4 4 4 \n"
          ]
        }
      ]
    },
    {
      "cell_type": "code",
      "source": [
        "n = 5\n",
        "for i in range(n):\n",
        "    for j in range(n):\n",
        "        print(j, end = \" \")\n",
        "    print()"
      ],
      "metadata": {
        "colab": {
          "base_uri": "https://localhost:8080/"
        },
        "id": "LjP2jFlbQGAU",
        "outputId": "fcb55562-189e-4726-92e0-4e6ec6252eb6"
      },
      "execution_count": null,
      "outputs": [
        {
          "output_type": "stream",
          "name": "stdout",
          "text": [
            "0 1 2 3 4 \n",
            "0 1 2 3 4 \n",
            "0 1 2 3 4 \n",
            "0 1 2 3 4 \n",
            "0 1 2 3 4 \n"
          ]
        }
      ]
    },
    {
      "cell_type": "code",
      "source": [
        "n = 5\n",
        "for i in range(n):\n",
        "    for j in range(n):\n",
        "        print(max(i,j), end = \" \")\n",
        "    print()"
      ],
      "metadata": {
        "colab": {
          "base_uri": "https://localhost:8080/"
        },
        "id": "oBPRBZgoQIhT",
        "outputId": "efbaaea1-ceb3-41e2-c3cb-3b46ece7c20c"
      },
      "execution_count": null,
      "outputs": [
        {
          "output_type": "stream",
          "name": "stdout",
          "text": [
            "0 1 2 3 4 \n",
            "1 1 2 3 4 \n",
            "2 2 2 3 4 \n",
            "3 3 3 3 4 \n",
            "4 4 4 4 4 \n"
          ]
        }
      ]
    },
    {
      "cell_type": "code",
      "source": [
        "n = 5\n",
        "for i in range(n):\n",
        "    for j in range(n):\n",
        "        print(n-i, end = \" \")\n",
        "    print()"
      ],
      "metadata": {
        "colab": {
          "base_uri": "https://localhost:8080/"
        },
        "id": "JtClq9MsQLzC",
        "outputId": "6bf10478-75dc-42ea-e7d7-4d79bdd327b6"
      },
      "execution_count": null,
      "outputs": [
        {
          "output_type": "stream",
          "name": "stdout",
          "text": [
            "5 5 5 5 5 \n",
            "4 4 4 4 4 \n",
            "3 3 3 3 3 \n",
            "2 2 2 2 2 \n",
            "1 1 1 1 1 \n"
          ]
        }
      ]
    },
    {
      "cell_type": "code",
      "source": [
        "n = 5\n",
        "for i in range(n):\n",
        "    for j in range(n):\n",
        "        print(n-i-1, end = \" \")\n",
        "    print()"
      ],
      "metadata": {
        "colab": {
          "base_uri": "https://localhost:8080/"
        },
        "id": "NB5nKiVSQODg",
        "outputId": "77b434a8-7c53-4e5d-8df9-12cf5e4c1a35"
      },
      "execution_count": null,
      "outputs": [
        {
          "output_type": "stream",
          "name": "stdout",
          "text": [
            "4 4 4 4 4 \n",
            "3 3 3 3 3 \n",
            "2 2 2 2 2 \n",
            "1 1 1 1 1 \n",
            "0 0 0 0 0 \n"
          ]
        }
      ]
    },
    {
      "cell_type": "code",
      "source": [
        "n = 5\n",
        "for i in range(n):\n",
        "    for j in range(n):\n",
        "        print(n-j-1, end = \" \")\n",
        "    print()"
      ],
      "metadata": {
        "colab": {
          "base_uri": "https://localhost:8080/"
        },
        "id": "DobZwrUNQQSU",
        "outputId": "c933997d-b8e4-4cf5-d58f-f36a1c7a30e9"
      },
      "execution_count": null,
      "outputs": [
        {
          "output_type": "stream",
          "name": "stdout",
          "text": [
            "4 3 2 1 0 \n",
            "4 3 2 1 0 \n",
            "4 3 2 1 0 \n",
            "4 3 2 1 0 \n",
            "4 3 2 1 0 \n"
          ]
        }
      ]
    },
    {
      "cell_type": "code",
      "source": [
        "n = 5\n",
        "for i in range(n):\n",
        "    for j in range(n):\n",
        "        print(max(n-j-1, n-i-1), end = \" \")\n",
        "    print()"
      ],
      "metadata": {
        "colab": {
          "base_uri": "https://localhost:8080/"
        },
        "id": "wLICF6VXQSjZ",
        "outputId": "d3196624-eaf2-44b3-f818-796ecc479505"
      },
      "execution_count": null,
      "outputs": [
        {
          "output_type": "stream",
          "name": "stdout",
          "text": [
            "4 4 4 4 4 \n",
            "4 3 3 3 3 \n",
            "4 3 2 2 2 \n",
            "4 3 2 1 1 \n",
            "4 3 2 1 0 \n"
          ]
        }
      ]
    },
    {
      "cell_type": "code",
      "source": [
        "n = 5\n",
        "for i in range(n):\n",
        "    for j in range(n):\n",
        "        print(\n",
        "            max(max(i+1, j+1),max(n-j, n-i)\n",
        "        ), end = \" \")\n",
        "    print()"
      ],
      "metadata": {
        "colab": {
          "base_uri": "https://localhost:8080/"
        },
        "id": "zdkJ4387QVSU",
        "outputId": "ce87cd4a-cfdc-4101-c894-0bffbc7f15bb"
      },
      "execution_count": null,
      "outputs": [
        {
          "output_type": "stream",
          "name": "stdout",
          "text": [
            "5 5 5 5 5 \n",
            "5 4 4 4 5 \n",
            "5 4 3 4 5 \n",
            "5 4 4 4 5 \n",
            "5 5 5 5 5 \n"
          ]
        }
      ]
    },
    {
      "cell_type": "code",
      "source": [
        "sum([1, 2, 3, 4, 5, 5, 6, 7, 8, 9])"
      ],
      "metadata": {
        "colab": {
          "base_uri": "https://localhost:8080/"
        },
        "id": "y2zPdu5MQXq6",
        "outputId": "9f25bdf6-a25a-4c67-e834-126821230d39"
      },
      "execution_count": null,
      "outputs": [
        {
          "output_type": "execute_result",
          "data": {
            "text/plain": [
              "50"
            ]
          },
          "metadata": {},
          "execution_count": 16
        }
      ]
    }
  ]
}